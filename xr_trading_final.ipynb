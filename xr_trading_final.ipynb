{
 "cells": [
  {
   "cell_type": "markdown",
   "id": "f78176b5",
   "metadata": {},
   "source": [
    "## I need to read in the files to my computer to work with them. Then I want to make the data more usable. I'll turn them into lists of lists to do this, where each list is a row. \n"
   ]
  },
  {
   "cell_type": "markdown",
   "id": "be05563a",
   "metadata": {},
   "source": [
    "### Sales"
   ]
  },
  {
   "cell_type": "code",
   "execution_count": 14,
   "id": "a09cfb0a",
   "metadata": {},
   "outputs": [
    {
     "data": {
      "text/plain": [
       "[['1', '1', '2', '10', '0.00'],\n",
       " ['2', '1', '1', '1', '0.00'],\n",
       " ['3', '2', '1', '5', '5.00'],\n",
       " ['4', '3', '3', '1', '2.50'],\n",
       " ['5', '3', '3', '2', '8.00']]"
      ]
     },
     "execution_count": 14,
     "metadata": {},
     "output_type": "execute_result"
    }
   ],
   "source": [
    "with open(\"/Users/charlesguthmann/Downloads/code/xr_assessment/sales.csv\") as f:\n",
    "    page = f.read()\n",
    "\n",
    "\n",
    "slist = page.split(\"\\n\")\n",
    "saleslist = []\n",
    "\n",
    "for row in slist:\n",
    "    row = row.split(\",\")\n",
    "    saleslist.append(row)\n",
    "\n",
    "saleslist\n",
    "\n",
    "# row[0] -> sale id (irrelevant)\n",
    "# row[1] -> product id \n",
    "# row[2] -> team id\n",
    "# row[3] -> quantity of lots sold\n",
    "# row[4] -> discount % 2.50 == 2.5% discount"
   ]
  },
  {
   "cell_type": "markdown",
   "id": "2ccf5312",
   "metadata": {},
   "source": [
    "## Team"
   ]
  },
  {
   "cell_type": "code",
   "execution_count": 15,
   "id": "fc9f68a7",
   "metadata": {},
   "outputs": [
    {
     "data": {
      "text/plain": [
       "[['TeamId', 'Name'],\n",
       " ['1', 'Fluffy Bunnies'],\n",
       " ['2', 'White Knights'],\n",
       " ['3', 'Kings and Queens']]"
      ]
     },
     "execution_count": 15,
     "metadata": {},
     "output_type": "execute_result"
    }
   ],
   "source": [
    "with open(\"/Users/charlesguthmann/Downloads/code/xr_assessment/teammap.csv\") as f:\n",
    "    page = f.read()\n",
    "\n",
    "tlist = page.split(\"\\n\")\n",
    "teamlist = []\n",
    "\n",
    "for row in tlist:\n",
    "    row = row.split(\",\")\n",
    "    teamlist.append(row)\n",
    "\n",
    "teamlist"
   ]
  },
  {
   "cell_type": "markdown",
   "id": "4ed3fc84",
   "metadata": {},
   "source": [
    "### Product "
   ]
  },
  {
   "cell_type": "code",
   "execution_count": 16,
   "id": "544ed556",
   "metadata": {},
   "outputs": [
    {
     "data": {
      "text/plain": [
       "[['1', 'Minor Widget', '0.25', '250'],\n",
       " ['2', 'Critical Widget', '5.00', '10'],\n",
       " ['3', 'Complete System (Basic)', '500', '1'],\n",
       " ['4', 'Complete System (Deluxe)', '625', '1']]"
      ]
     },
     "execution_count": 16,
     "metadata": {},
     "output_type": "execute_result"
    }
   ],
   "source": [
    "with open(\"/Users/charlesguthmann/Downloads/code/xr_assessment/productmaster.csv\") as f:\n",
    "    page = f.read()\n",
    "    \n",
    "plist = page.split(\"\\n\")\n",
    "productlist = []\n",
    "\n",
    "for row in plist:\n",
    "    row = row.split(\",\")\n",
    "    productlist.append(row)\n",
    "\n",
    "productlist"
   ]
  },
  {
   "cell_type": "markdown",
   "id": "07ccc52c",
   "metadata": {},
   "source": [
    "### We are also going to want to make some maps, to hold the values that we want to put in the outputs"
   ]
  },
  {
   "cell_type": "markdown",
   "id": "a73d426c",
   "metadata": {},
   "source": [
    "## Team Maps"
   ]
  },
  {
   "cell_type": "code",
   "execution_count": 17,
   "id": "25734b9d",
   "metadata": {},
   "outputs": [],
   "source": [
    "teamnamemap = {}\n",
    "for i in range(1, len(teamlist)):\n",
    "    teamnamemap[teamlist[i][0]] = teamlist[i][1]\n",
    "\n",
    "\n",
    "teamsummap = {}\n",
    "for i in range(1, len(teamlist)):\n",
    "    teamsummap[teamlist[i][1]] = 0\n"
   ]
  },
  {
   "cell_type": "markdown",
   "id": "a33b0812",
   "metadata": {},
   "source": [
    "## Product Maps"
   ]
  },
  {
   "cell_type": "code",
   "execution_count": 18,
   "id": "6c087e0a",
   "metadata": {},
   "outputs": [],
   "source": [
    "productnamemap = {}\n",
    "for i in range(0, len(productlist)):\n",
    "    productnamemap[productlist[i][0]] = productlist[i][1]\n",
    "        \n",
    "productsummap = {}\n",
    "for i in range(0, len(teamlist)):\n",
    "    productsummap[productlist[i][1]] = 0\n",
    "      \n",
    "discountmap = {}\n",
    "for i in range(0, len(teamlist)):\n",
    "    discountmap[productlist[i][1]] = 0\n",
    "\n",
    "unitsmap = {}\n",
    "for i in range(0, len(teamlist)):\n",
    "    unitsmap[productlist[i][1]] = 0"
   ]
  },
  {
   "cell_type": "markdown",
   "id": "c9bf392e",
   "metadata": {},
   "source": [
    "## Creating the Team Report"
   ]
  },
  {
   "cell_type": "markdown",
   "id": "30dd1912",
   "metadata": {},
   "source": [
    "## Now map team names to their total sum"
   ]
  },
  {
   "cell_type": "code",
   "execution_count": 19,
   "id": "cbb4ac84",
   "metadata": {},
   "outputs": [
    {
     "data": {
      "text/plain": [
       "{'Fluffy Bunnies': 300.0, 'White Knights': 625.0, 'Kings and Queens': 1407.5}"
      ]
     },
     "execution_count": 19,
     "metadata": {},
     "output_type": "execute_result"
    }
   ],
   "source": [
    "for row in saleslist:\n",
    "    price = float(productlist[int(row[1]) - 1][2])\n",
    "    quantity = int(row[3])\n",
    "    lotsize = int(productlist[int(row[1]) - 1][3])\n",
    "    discount = (1- (float(row[4])/100))\n",
    "    teamsummap[teamnamemap[str(row[2])]] += price * quantity * lotsize * discount\n",
    "\n",
    "teamsummap\n",
    "\n",
    "\n"
   ]
  },
  {
   "cell_type": "markdown",
   "id": "504f668d",
   "metadata": {},
   "source": [
    "## Checked work and this seems to be correct. Now we need to create the Team Report File\n"
   ]
  },
  {
   "cell_type": "code",
   "execution_count": 20,
   "id": "1abac893",
   "metadata": {},
   "outputs": [],
   "source": [
    "## I'm assuming I'm allowed to use csv package? apologies if not. \n",
    "\n",
    "import csv\n",
    "\n",
    "header = [\"Team\", \"Gross Revenue\"]\n",
    "\n",
    "data = [ [teamlist[i][1],teamsummap[teamlist[i][1]]] for i in range(1,len(teamlist))]\n",
    "\n",
    "with open('/Users/charlesguthmann/Downloads/code/xr_assessment/TeamReport.csv', 'w+') as f:\n",
    "    writer = csv.writer(f)\n",
    "    \n",
    "    writer.writerow(header)\n",
    "    \n",
    "    writer.writerows(data)"
   ]
  },
  {
   "cell_type": "markdown",
   "id": "28c0d792",
   "metadata": {},
   "source": [
    "### Now we need to make the product report"
   ]
  },
  {
   "cell_type": "code",
   "execution_count": 24,
   "id": "dc237c28",
   "metadata": {},
   "outputs": [],
   "source": [
    "#gross revenue == units sold x price x lotsize x discount\n",
    "\n",
    "#non-discounted gross revenue == units sold x price x lotsize\n",
    "\n",
    "#Total units== sum of units sold\n",
    "\n",
    "#discount cost == non_discounted gross revenue - gross revenue "
   ]
  },
  {
   "cell_type": "code",
   "execution_count": 21,
   "id": "749dc44d",
   "metadata": {},
   "outputs": [],
   "source": [
    "#gross revenue for loop\n",
    "\n",
    "for row in saleslist:\n",
    "    price = float(productlist[int(row[1]) - 1][2])\n",
    "    quantity = int(row[3])\n",
    "    lotsize = int(productlist[int(row[1]) - 1][3])\n",
    "    discount = (1- (float(row[4])/100))\n",
    "    productsummap[productnamemap[str(row[1])]] += price * quantity * lotsize * discount\n",
    "    "
   ]
  },
  {
   "cell_type": "code",
   "execution_count": 22,
   "id": "c3f475b9",
   "metadata": {},
   "outputs": [],
   "source": [
    "# total discount provided\n",
    "\n",
    "for row in saleslist:\n",
    "    price = float(productlist[int(row[1]) - 1][2])\n",
    "    quantity = int(row[3])\n",
    "    lotsize = int(productlist[int(row[1]) - 1][3])\n",
    "    discount = (1- (float(row[4])/100))\n",
    "    discountmap[productnamemap[str(row[1])]] += price * quantity * lotsize *  (float(row[4])/100)\n"
   ]
  },
  {
   "cell_type": "code",
   "execution_count": 23,
   "id": "557379c7",
   "metadata": {},
   "outputs": [],
   "source": [
    "# total units   \n",
    "for row in saleslist:\n",
    "    quantity = int(row[3])\n",
    "    unitsmap[productnamemap[str(row[1])]] += quantity"
   ]
  },
  {
   "cell_type": "markdown",
   "id": "d7507605",
   "metadata": {},
   "source": [
    "## Create the product csv file"
   ]
  },
  {
   "cell_type": "code",
   "execution_count": 24,
   "id": "6dadcd88",
   "metadata": {},
   "outputs": [],
   "source": [
    "productheader = [\"Name\",\"GrossRevenue\",\"TotalUnits\",\"DiscountCost\"]\n",
    "\n",
    "productdata = [ [productlist[i][1], productsummap[productlist[i][1]], unitsmap[productlist[i][1]], discountmap[productlist[i][1]] ] for i in range(len(productlist))]\n",
    "\n",
    "productdata\n",
    "\n",
    "with open('/Users/charlesguthmann/Downloads/code/xr_assessment/ProductReport.csv', 'w+') as f:\n",
    "    writer = csv.writer(f)\n",
    "    \n",
    "    writer.writerow(productheader)\n",
    "    \n",
    "    writer.writerows(productdata)\n",
    "    "
   ]
  }
 ],
 "metadata": {
  "kernelspec": {
   "display_name": "Python 3 (ipykernel)",
   "language": "python",
   "name": "python3"
  },
  "language_info": {
   "codemirror_mode": {
    "name": "ipython",
    "version": 3
   },
   "file_extension": ".py",
   "mimetype": "text/x-python",
   "name": "python",
   "nbconvert_exporter": "python",
   "pygments_lexer": "ipython3",
   "version": "3.9.12"
  }
 },
 "nbformat": 4,
 "nbformat_minor": 5
}
